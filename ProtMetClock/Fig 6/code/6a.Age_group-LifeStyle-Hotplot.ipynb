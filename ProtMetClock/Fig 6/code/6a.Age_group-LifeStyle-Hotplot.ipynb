{
 "cells": [
  {
   "cell_type": "code",
   "execution_count": null,
   "id": "b5fea323",
   "metadata": {},
   "outputs": [
    {
     "name": "stderr",
     "output_type": "stream",
     "text": [
      "C:\\Users\\Peter\\AppData\\Roaming\\Python\\Python311\\site-packages\\pandas\\core\\arrays\\masked.py:60: UserWarning: Pandas requires version '1.3.6' or newer of 'bottleneck' (version '1.3.5' currently installed).\n",
      "  from pandas.core import (\n"
     ]
    }
   ],
   "source": [
    "# Import required libraries\n",
    "import numpy as np\n",
    "import pandas as pd\n",
    "import seaborn as sns\n",
    "import matplotlib.pyplot as plt\n",
    "from matplotlib.colors import LinearSegmentedColormap, BoundaryNorm"
   ]
  },
  {
   "cell_type": "code",
   "execution_count": null,
   "id": "005bf219",
   "metadata": {},
   "outputs": [
    {
     "data": {
      "image/png": "[encoded data removed]",
      "text/plain": [
       "<Figure size 550x200 with 2 Axes>"
      ]
     },
     "metadata": {},
     "output_type": "display_data"
    }
   ],
   "source": [
    "# Read CSV file\n",
    "df = pd.read_csv('../data/Age_group-LifeStyle-p-value.csv')\n",
    "df.set_index(df.columns[0], inplace=True)\n",
    "\n",
    "# Define custom color gradient\n",
    "colors = [\"#D34A4A\", \"#F7A7A7\", \"#FFE5E5\"]\n",
    "cmap = LinearSegmentedColormap.from_list(\"custom_pink\", colors, N=256)\n",
    "\n",
    "# Define p-value thresholds for color mapping\n",
    "boundaries = np.array([0, 0.001, 0.01, 0.05, 0.1, 0.5, 1.0])\n",
    "\n",
    "# Create normalization object for colormap\n",
    "norm = BoundaryNorm(boundaries, cmap.N)\n",
    "\n",
    "# Initialize figure with specific dimensions\n",
    "plt.figure(figsize=(5.5, 2))\n",
    "\n",
    "# Create heatmap with custom settings\n",
    "heatmap = sns.heatmap(\n",
    "    df,\n",
    "    annot=False,\n",
    "    cmap=cmap,\n",
    "    norm=norm,\n",
    "    linewidths=0,\n",
    "    cbar_kws={\n",
    "        'label': 'p-value',\n",
    "        'ticks': [0, 0.01, 0.1, 1.0],\n",
    "        'format': lambda x, _: f\"{x:.3f}\".rstrip('0').rstrip('.') if '.' in f\"{x:.3f}\" else f\"{x}\",\n",
    "        'aspect': 10,\n",
    "    }\n",
    ")\n",
    "\n",
    "# Remove minor ticks from colorbar if present\n",
    "cbar = heatmap.collections[0].colorbar\n",
    "cbar.ax.tick_params(which='minor', size=0)\n",
    "\n",
    "# Add significance stars based on p-value thresholds\n",
    "for i in range(df.shape[0]):\n",
    "    for j in range(df.shape[1]):\n",
    "        p_value = df.iloc[i, j]\n",
    "        if p_value <= 0.001:\n",
    "            text = \"***\"\n",
    "        elif p_value <= 0.01:\n",
    "            text = \"**\"\n",
    "        elif p_value <= 0.05:\n",
    "            text = \"*\"\n",
    "        else:\n",
    "            text = \"\"\n",
    "        \n",
    "        # Add text marker if significant\n",
    "        if text:\n",
    "            bg_color = heatmap.collections[0].get_facecolor()[i * df.shape[1] + j]\n",
    "            brightness = (bg_color[0] * 299 + bg_color[1] * 587 + bg_color[2] * 114) / 1000\n",
    "            text_color = 'white' if brightness < 0.1 else 'black'\n",
    "\n",
    "            # Add text marker at cell center\n",
    "            plt.text(j + 0.5, i + 0.5, text, \n",
    "                     ha='center', va='center', \n",
    "                     color=text_color, fontsize=10)\n",
    "\n",
    "# Rotate x-axis labels 90 degrees and align properly\n",
    "plt.xticks(rotation=90, ha='right', rotation_mode='anchor')\n",
    "\n",
    "# Keep y-axis labels horizontal and right-aligned\n",
    "plt.yticks(rotation=0, ha='right')\n",
    "\n",
    "# Adjust layout to prevent label clipping\n",
    "plt.tight_layout()\n",
    "\n",
    "# Display the plot\n",
    "plt.show()"
   ]
  },
  {
   "cell_type": "code",
   "execution_count": null,
   "id": "ec9c52f2",
   "metadata": {},
   "outputs": [],
   "source": []
  }
 ],
 "metadata": {
  "kernelspec": {
   "display_name": "Python 3 (ipykernel)",
   "language": "python",
   "name": "python3"
  },
  "language_info": {
   "codemirror_mode": {
    "name": "ipython",
    "version": 3
   },
   "file_extension": ".py",
   "mimetype": "text/x-python",
   "name": "python",
   "nbconvert_exporter": "python",
   "pygments_lexer": "ipython3",
   "version": "3.11.5"
  }
 },
 "nbformat": 4,
 "nbformat_minor": 5
}
