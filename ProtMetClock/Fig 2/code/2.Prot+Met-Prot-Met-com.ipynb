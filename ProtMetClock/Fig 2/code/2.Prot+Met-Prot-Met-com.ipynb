{
 "cells": [
  {
   "cell_type": "code",
   "execution_count": null,
   "id": "48c1afda",
   "metadata": {},
   "outputs": [
    {
     "name": "stderr",
     "output_type": "stream",
     "text": [
      "C:\\Users\\Peter\\AppData\\Roaming\\Python\\Python311\\site-packages\\pandas\\core\\arrays\\masked.py:60: UserWarning: Pandas requires version '1.3.6' or newer of 'bottleneck' (version '1.3.5' currently installed).\n",
      "  from pandas.core import (\n"
     ]
    }
   ],
   "source": [
    "# Import required libraries\n",
    "import pandas as pd\n",
    "import matplotlib.pyplot as plt\n",
    "from scipy.stats import ttest_ind\n",
    "import itertools"
   ]
  },
  {
   "cell_type": "code",
   "execution_count": null,
   "id": "e2957e5e",
   "metadata": {},
   "outputs": [
    {
     "data": {
      "image/png": "[encoded data removed]",
      "text/plain": [
       "<Figure size 400x400 with 1 Axes>"
      ]
     },
     "metadata": {},
     "output_type": "display_data"
    }
   ],
   "source": [
    "# Read CSV file containing model comparison data\n",
    "# Expected columns: Model names, average Pearson correlations (r-AVG), and individual run results (r1-r5)\n",
    "df = pd.read_csv('../data/2.Prot+Met-Prot-Met-com.csv')\n",
    "\n",
    "# Convert numeric columns to float type, coercing non-numeric values to NaN\n",
    "for col in ['r1', 'r2', 'r3', 'r4', 'r5']:\n",
    "    df[col] = pd.to_numeric(df[col], errors='coerce')\n",
    "\n",
    "# Check for and handle NaN values in the correlation data\n",
    "if df[['r1', 'r2', 'r3', 'r4', 'r5']].isnull().values.any():\n",
    "    print(\"Warning: Non-numeric values found in Pearson correlation data. These rows will be dropped.\")\n",
    "    df = df.dropna(subset=['r1', 'r2', 'r3', 'r4', 'r5'])\n",
    "\n",
    "# Prepare data for plotting\n",
    "models = df['Model']\n",
    "r = df['r-AVG']\n",
    "# errors = df['std']\n",
    "\n",
    "# Create figure with specified size (width, height in inches)\n",
    "fig, ax = plt.subplots(figsize=(4, 4))\n",
    "\n",
    "# Set bar width and colors for different models\n",
    "bar_width = 0.6\n",
    "colors = ['#FF7F50', '#4682B4', '#A4848D']\n",
    "\n",
    "# Create bar plot showing average Pearson correlations\n",
    "bars = ax.bar(models, r, capsize=5, color=colors, alpha=0.7, width=bar_width)\n",
    "\n",
    "# Configure plot labels and limits\n",
    "ax.set_ylabel('Pearson correlation', fontsize=16)\n",
    "ax.set_ylim([0.5, 1.06])\n",
    "\n",
    "# Customize axis appearance\n",
    "ax.spines['left'].set_linewidth(1)\n",
    "ax.spines['bottom'].set_linewidth(1)\n",
    "\n",
    "# Customize tick marks\n",
    "ax.tick_params(axis='x', width=1, length=6, labelsize=13)\n",
    "ax.tick_params(axis='y', width=1, length=6, labelsize=13)\n",
    "\n",
    "# Remove top and right spines for cleaner look\n",
    "ax.spines['top'].set_visible(False)\n",
    "ax.spines['right'].set_visible(False)\n",
    "\n",
    "# Adjust tick label properties\n",
    "plt.tick_params(axis='x', labelsize=13, rotation=0)\n",
    "plt.tick_params(axis='y', labelsize=13)\n",
    "\n",
    "# Calculate pairwise statistical comparisons between models\n",
    "p_values = []\n",
    "\n",
    "# Generate all possible 2-model combinations\n",
    "for (i, j) in itertools.combinations(range(len(models)), 2):\n",
    "    # Get correlation values for both models\n",
    "    group1 = df.iloc[i, 2:7].values.astype(float)\n",
    "    group2 = df.iloc[j, 2:7].values.astype(float)\n",
    "    \n",
    "    # Perform independent t-test (ignoring NaN values)\n",
    "    _, p = ttest_ind(group1, group2, nan_policy='omit')\n",
    "    p_values.append(((i, j), p))  # Store model indices and p-value\n",
    "\n",
    "# Add significance annotations to the plot\n",
    "k = 0   # Vertical offset counter\n",
    "count = 0   # Significance marker counter\n",
    "for (i, j), p in p_values:\n",
    "    if p < 0.05:  # Only mark significant differences (p < 0.05)\n",
    "        x1, x2 = i, j   # Model indices\n",
    "        y, h, col = max(r[i], r[j]) + 0.02 + k, 0.02, 'black'  # Calculate marker position (above higher bar)\n",
    "        ax.plot([x1, x1, x2, x2], [y, y + h-0.01, y + h-0.01, y], lw=1, color=col)  # Draw significance bracket\n",
    "        # Add p-value text (formatted in scientific notation)\n",
    "        ax.text((x1 + x2) * 0.5, y + h, f'{p:.2e}', ha='center', va='bottom', fontsize=10)\n",
    "        count += 1\n",
    "        if count == 2:  # Add vertical spacing for multiple comparisons\n",
    "            k += 0.07\n",
    "\n",
    "# Adjust layout to prevent label clipping\n",
    "plt.tight_layout()\n",
    "\n",
    "# Display the plot\n",
    "plt.show()"
   ]
  },
  {
   "cell_type": "code",
   "execution_count": null,
   "id": "4399d4a0",
   "metadata": {},
   "outputs": [],
   "source": []
  }
 ],
 "metadata": {
  "kernelspec": {
   "display_name": "Python 3 (ipykernel)",
   "language": "python",
   "name": "python3"
  },
  "language_info": {
   "codemirror_mode": {
    "name": "ipython",
    "version": 3
   },
   "file_extension": ".py",
   "mimetype": "text/x-python",
   "name": "python",
   "nbconvert_exporter": "python",
   "pygments_lexer": "ipython3",
   "version": "3.11.5"
  }
 },
 "nbformat": 4,
 "nbformat_minor": 5
}
