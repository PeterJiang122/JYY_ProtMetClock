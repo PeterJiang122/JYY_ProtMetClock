{
 "cells": [
  {
   "cell_type": "code",
   "execution_count": null,
   "id": "1c9cca7b",
   "metadata": {},
   "outputs": [
    {
     "name": "stderr",
     "output_type": "stream",
     "text": [
      "C:\\Users\\Peter\\AppData\\Roaming\\Python\\Python311\\site-packages\\pandas\\core\\arrays\\masked.py:60: UserWarning: Pandas requires version '1.3.6' or newer of 'bottleneck' (version '1.3.5' currently installed).\n",
      "  from pandas.core import (\n"
     ]
    }
   ],
   "source": [
    "# Import required libraries\n",
    "import seaborn as sns\n",
    "import matplotlib.pyplot as plt\n",
    "import pandas as pd\n",
    "from scipy.stats import ttest_ind"
   ]
  },
  {
   "cell_type": "code",
   "execution_count": null,
   "id": "27f32761",
   "metadata": {},
   "outputs": [
    {
     "name": "stderr",
     "output_type": "stream",
     "text": [
      "C:\\Users\\Peter\\AppData\\Local\\Temp\\ipykernel_7104\\3378361002.py:3: DtypeWarning: Columns (631,632,633,634,635,636,637,638,639,640,641,642,643,644,645,646,647,648,649,650,651,652,653,654,655,656,657,658,659,660,661,662,663,664,665,666,667,668,669,670,671,672,673,674,675,676,677,678,679,680,681,682,683,684,685,686,687,688,689,690,691,692,693,694,695,696,697,698,699,700,701,702,703,704,705,706,707,708,709,710,711,712,713,714,715,716,717,718,719,720,721,722,723,724,725,726,727,728,729,730,731,732,733,734,735,736,737,738,739) have mixed types. Specify dtype option on import or set low_memory=False.\n",
      "  df = pd.read_csv(file_path)\n",
      "C:\\Users\\Peter\\AppData\\Local\\Temp\\ipykernel_7104\\3378361002.py:23: FutureWarning: \n",
      "\n",
      "Passing `palette` without assigning `hue` is deprecated and will be removed in v0.14.0. Assign the `x` variable to `hue` and set `legend=False` for the same effect.\n",
      "\n",
      "  sns.boxplot(\n"
     ]
    },
    {
     "data": {
      "image/png": "[encoded data removed]",
      "text/plain": [
       "<Figure size 300x300 with 1 Axes>"
      ]
     },
     "metadata": {},
     "output_type": "display_data"
    }
   ],
   "source": [
    "# Load dataset\n",
    "file_path = '../data/4.300_all_prot+met+pop+diea+age.csv'\n",
    "df = pd.read_csv(file_path)\n",
    "\n",
    "# Convert gender codes (0/1) to text labels for better visualization\n",
    "df['31-0.0'] = df['31-0.0'].map({0: 'Female', 1: 'Male'})\n",
    "\n",
    "# Split data by gender for statistical comparison\n",
    "female_data = df[df['31-0.0'] == 'Female']['aging_rate']\n",
    "male_data = df[df['31-0.0'] == 'Male']['aging_rate']\n",
    "\n",
    "# Calculate statistical significance using independent t-test\n",
    "stat, p_value = ttest_ind(female_data, male_data)\n",
    "p_text = f'{p_value:.3e}'\n",
    "\n",
    "# Initialize figure with specified dimensions\n",
    "fig, ax = plt.subplots(figsize=(3, 3))\n",
    "\n",
    "# Configure outlier appearance\n",
    "flierprops = dict(marker='o', color='black', markersize=1)\n",
    "\n",
    "# Create boxplot comparing aging rates by gender\n",
    "sns.boxplot(\n",
    "    x='31-0.0', y='aging_rate', data=df, \n",
    "    palette=['#12729E', '#31B4F0'],\n",
    "    width=0.4, ax=ax, linewidth=1,\n",
    "    flierprops=flierprops\n",
    ")\n",
    "\n",
    "# Add significance annotation with p-value\n",
    "x1, x2 = 0, 1  # X-positions for Female and Male boxes\n",
    "y, h = max(df['aging_rate']) + 0.03, 0.02  # Y-position and height for annotation\n",
    "# Draw significance bracket\n",
    "ax.plot([x1, x1, x2, x2], [y, y + h, y + h, y], color='black', linewidth=1)\n",
    "# Add p-value text\n",
    "ax.text((x1 + x2) / 2, y + h + 0.01, p_text, ha='center', va='bottom', fontsize=9)\n",
    "\n",
    "# Adjust x-axis limits to reduce empty space\n",
    "ax.set_xlim(-0.5, 1.5)\n",
    "\n",
    "# Add reference line at normal aging rate (y=1.0)\n",
    "plt.axhline(y=1.0, color='black', linestyle='--', linewidth=1)\n",
    "\n",
    "# Configure x-axis tick labels\n",
    "plt.tick_params(axis='x', labelcolor='black', labelsize=9)\n",
    "\n",
    "# Remove top and right spines for cleaner look\n",
    "ax = plt.gca()\n",
    "ax.spines['top'].set_visible(False)\n",
    "ax.spines['right'].set_visible(False)\n",
    "\n",
    "# Set y-axis label\n",
    "ax.set_ylabel('Aging rate', fontsize=11)\n",
    "\n",
    "# Adjust layout to prevent clipping\n",
    "plt.tight_layout()\n",
    "\n",
    "# Display the plot\n",
    "plt.show()"
   ]
  },
  {
   "cell_type": "code",
   "execution_count": null,
   "id": "744acf7a",
   "metadata": {},
   "outputs": [],
   "source": []
  }
 ],
 "metadata": {
  "kernelspec": {
   "display_name": "Python 3 (ipykernel)",
   "language": "python",
   "name": "python3"
  },
  "language_info": {
   "codemirror_mode": {
    "name": "ipython",
    "version": 3
   },
   "file_extension": ".py",
   "mimetype": "text/x-python",
   "name": "python",
   "nbconvert_exporter": "python",
   "pygments_lexer": "ipython3",
   "version": "3.11.5"
  }
 },
 "nbformat": 4,
 "nbformat_minor": 5
}
